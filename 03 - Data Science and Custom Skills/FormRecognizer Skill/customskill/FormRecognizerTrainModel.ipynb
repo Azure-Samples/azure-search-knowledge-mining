{
 "cells": [
  {
   "cell_type": "code",
   "execution_count": null,
   "metadata": {},
   "outputs": [],
   "source": [
    "!pip install azure-ai-formrecognizer"
   ]
  },
  {
   "cell_type": "code",
   "execution_count": 2,
   "metadata": {},
   "outputs": [],
   "source": [
    "import os\n",
    "from azure.core.exceptions import ResourceNotFoundError\n",
    "from azure.ai.formrecognizer import FormRecognizerClient\n",
    "from azure.ai.formrecognizer import FormTrainingClient\n",
    "from azure.core.credentials import AzureKeyCredential"
   ]
  },
  {
   "cell_type": "code",
   "execution_count": 3,
   "metadata": {},
   "outputs": [],
   "source": [
    "endpoint = \"YourFormsRecognizerEndpoint\"\n",
    "key = \"YourFormsRecognizerKey\"\n",
    "\n",
    "form_recognizer_client = FormRecognizerClient(endpoint, AzureKeyCredential(key))\n",
    "form_training_client = FormTrainingClient(endpoint, AzureKeyCredential(key))\n",
    "\n"
   ]
  },
  {
   "cell_type": "code",
   "execution_count": null,
   "metadata": {},
   "outputs": [],
   "source": [
    "# To train a model you need an Azure Storage account.\n",
    "# Use the SAS URL to access your training files.\n",
    "# Upload the files from the train folder to a storage container and generate a SAS token\n",
    "trainingDataUrl = \"\"\n",
    "\n",
    "poller = form_training_client.begin_training(trainingDataUrl, use_training_labels=False)\n",
    "model = poller.result()\n",
    "\n",
    "print(\"Model ID: {}\".format(model.model_id))\n",
    "print(\"Status: {}\".format(model.status))\n",
    "print(\"Training started on: {}\".format(model.training_started_on))\n",
    "print(\"Training completed on: {}\".format(model.training_completed_on))\n",
    "\n",
    "print(\"\\nRecognized fields:\")\n",
    "for submodel in model.submodels:\n",
    "    print(\n",
    "        \"The submodel with form type '{}' has recognized the following fields: {}\".format(\n",
    "            submodel.form_type,\n",
    "            \", \".join(\n",
    "                [\n",
    "                    field.label if field.label else name\n",
    "                    for name, field in submodel.fields.items()\n",
    "                ]\n",
    "            ),\n",
    "        )\n",
    "    )\n",
    "\n",
    "# Training result information\n",
    "for doc in model.training_documents:\n",
    "    print(\"Document name: {}\".format(doc.name))\n",
    "    print(\"Document status: {}\".format(doc.status))\n",
    "    print(\"Document page count: {}\".format(doc.page_count))\n",
    "    print(\"Document errors: {}\".format(doc.errors))"
   ]
  },
  {
   "cell_type": "code",
   "execution_count": null,
   "metadata": {},
   "outputs": [],
   "source": [
    "# Model ID from when you trained your model. Look for the model id in the output from the previous cell\n",
    "# Upload the image from the test folder to a storage container and generate a SAS url \n",
    "model_id = \"modelid\"\n",
    "formUrl = \"test image SAS url\"\n",
    "poller = form_recognizer_client.begin_recognize_custom_forms_from_url(\n",
    "    model_id=model_id, form_url=formUrl)\n",
    "result = poller.result()\n",
    "\n",
    "for recognized_form in result:\n",
    "    print(\"Form type: {}\".format(recognized_form.form_type))\n",
    "    for name, field in recognized_form.fields.items():\n",
    "        print(\"Field '{}' has label '{}' with value '{}' and a confidence score of {}\".format(\n",
    "            name,\n",
    "            field.label_data.text if field.label_data else name,\n",
    "            field.value,\n",
    "            field.confidence\n",
    "        ))"
   ]
  },
  {
   "cell_type": "code",
   "execution_count": null,
   "metadata": {},
   "outputs": [],
   "source": []
  }
 ],
 "metadata": {
  "kernelspec": {
   "display_name": "Python 3",
   "language": "python",
   "name": "python3"
  },
  "language_info": {
   "codemirror_mode": {
    "name": "ipython",
    "version": 3
   },
   "file_extension": ".py",
   "mimetype": "text/x-python",
   "name": "python",
   "nbconvert_exporter": "python",
   "pygments_lexer": "ipython3",
   "version": "3.7.4"
  }
 },
 "nbformat": 4,
 "nbformat_minor": 2
}
