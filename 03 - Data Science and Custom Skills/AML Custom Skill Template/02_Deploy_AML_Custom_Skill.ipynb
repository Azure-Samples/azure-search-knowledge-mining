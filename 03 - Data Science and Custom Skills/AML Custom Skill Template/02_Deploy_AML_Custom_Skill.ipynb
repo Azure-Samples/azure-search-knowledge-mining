{
 "cells": [
  {
   "cell_type": "markdown",
   "metadata": {},
   "source": [
    "# Deploy Document Classification Custom Skill\n",
    "\n",
    "This tutorial shows how to deploy a document classification custom skill for Cognitive Search. We will use the document classifier that was created by *01_Train_AML_Model.ipynb*. If you have not already, please run that script.\n",
    "\n",
    "For more information on using custom skills with Cognitive Search, please see this [page](https://docs.microsoft.com/en-us/azure/search/cognitive-search-custom-skill-interface)."
   ]
  },
  {
   "cell_type": "markdown",
   "metadata": {},
   "source": [
    "### 0.0 Important Variables you need to set for this tutorial\n",
    "\n",
    "Enter your workspace, resource and subscription credentials below\n"
   ]
  },
  {
   "cell_type": "code",
   "execution_count": null,
   "metadata": {},
   "outputs": [],
   "source": [
    "# Machine Learning Service Workspace configuration\n",
    "my_workspace_name = ''\n",
    "my_azure_subscription_id = ''\n",
    "my_resource_group = ''\n",
    "\n",
    "# Azure Kubernetes Service configuration\n",
    "my_aks_location = 'eastus'\n",
    "my_aks_compute_target_name = 'aks-comptarget'\n",
    "my_aks_service_name = 'aks-service'     \n",
    "my_leaf_domain_label = 'ssl1'   # web service url prefix"
   ]
  },
  {
   "cell_type": "markdown",
   "metadata": {},
   "source": [
    "### 1.0 Import Packages"
   ]
  },
  {
   "cell_type": "code",
   "execution_count": null,
   "metadata": {},
   "outputs": [],
   "source": [
    "# Copyright (c) Microsoft Corporation. All rights reserved.\n",
    "# Licensed under the MIT License.\n",
    "\n",
    "import numpy as np\n",
    "\n",
    "import azureml\n",
    "from azureml.core import Workspace, Run\n",
    "\n",
    "# display the core SDK version number\n",
    "print(\"Azure ML SDK Version: \", azureml.core.VERSION)"
   ]
  },
  {
   "cell_type": "markdown",
   "metadata": {},
   "source": [
    "### 2.0 Connect to Workspace\n",
    "Create a workspace object. If you already have a workspace and a config.json file you can use `ws = Workspace.from_config()` instead."
   ]
  },
  {
   "cell_type": "code",
   "execution_count": null,
   "metadata": {
    "scrolled": true
   },
   "outputs": [],
   "source": [
    "from azureml.core import Workspace\n",
    "from azureml.core.model import Model\n",
    "\n",
    "ws = Workspace.get(name = my_workspace_name, resource_group = my_resource_group, subscription_id = my_azure_subscription_id)\n",
    "print(ws.name, ws.location, ws.resource_group, sep = '\\t')"
   ]
  },
  {
   "cell_type": "markdown",
   "metadata": {},
   "source": [
    "### 3.0 Register Model\n",
    "The last step in the training script wrote the file outputs/sklearn_mnist_model.pkl in a directory named outputs.\n",
    "\n",
    "Register the model in the workspace so that you (or other collaborators) can query, examine, and deploy this model."
   ]
  },
  {
   "cell_type": "code",
   "execution_count": null,
   "metadata": {},
   "outputs": [],
   "source": [
    "model_name=\"newsgroup_classifier\"\n",
    "\n",
    "model = Model.register(model_path=\"outputs/newsgroup_classifier.pkl\",\n",
    "                        model_name=model_name,\n",
    "                        tags={\"data\": \"newsgroup\", \"document\": \"classification\"},\n",
    "                        description=\"document classifier for newsgroup20\",\n",
    "                        workspace=ws)\n",
    "\n",
    "print(model.id)"
   ]
  },
  {
   "cell_type": "markdown",
   "metadata": {},
   "source": [
    "### 4.0 Create Scoring Script\n",
    "Create the scoring script, called score.py, used by the web service call to show how to use the model.\n",
    "\n",
    "You must include two required functions into the scoring script:\n",
    "- The init() function, which typically loads the model into a global object. This function is run only once when the Docker container is started.\n",
    "- The run(input_data) function uses the model to predict a value based on the input data. Inputs and outputs to the run typically use JSON for serialization and de-serialization, but other formats are supported.\n",
    "\n",
    "*The **run function** has been specifically tailored to deploy the model as a custom skill. This means that inputs & outputs are formatted correctly and any errors will be returned in a format usable by Cognitive Search*."
   ]
  },
  {
   "cell_type": "code",
   "execution_count": null,
   "metadata": {},
   "outputs": [],
   "source": [
    "%%writefile score.py\n",
    "import json\n",
    "import numpy as np\n",
    "import pandas as pd\n",
    "import os\n",
    "import pickle\n",
    "import joblib\n",
    "\n",
    "from azureml.core.model import Model\n",
    "\n",
    "def init():\n",
    "    global model\n",
    "    # retreive the path to the model file using the model name\n",
    "    model_path = Model.get_model_path(model_name='newsgroup_classifier')\n",
    "    model = joblib.load(model_path)\n",
    "    \n",
    "def convert_to_df(my_dict):\n",
    "    df = pd.DataFrame(my_dict[\"values\"])\n",
    "    data = df['data'].tolist()\n",
    "    index = df['recordId'].tolist()\n",
    "    return pd.DataFrame(data, index = index)\n",
    "\n",
    "def run(raw_data):\n",
    "    data = json.loads(raw_data)\n",
    "    # Converting the input dictionary to a dataframe\n",
    "    try:\n",
    "        df = convert_to_df(data)\n",
    "    # Returning error message for each item in batch if data not in correct format \n",
    "    except:\n",
    "        df = pd.DataFrame(data)\n",
    "        index = df['recordId'].tolist()\n",
    "        message = \"Request for batch is not in correct format\"\n",
    "        output_list = [{'recordId': i, 'data': {}, \"errors\": [{'message': message}]} for i in index]\n",
    "        return {'values': output_list}\n",
    "    \n",
    "    output_list = []\n",
    "    for index, row in df.iterrows():\n",
    "        output = {'recordId': index, 'data': {}}\n",
    "        try:\n",
    "            output['data']['type'] = str(model.predict([row['content']])[0])\n",
    "        # Returning exception if an error occurs\n",
    "        except Exception as ex:\n",
    "            output['errors'] = [{'message': str(ex)}]\n",
    "        output_list.append(output)\n",
    "\n",
    "    return {'values': output_list}    "
   ]
  },
  {
   "cell_type": "markdown",
   "metadata": {},
   "source": [
    "### 5.0 Create Environment and Inference Configuration"
   ]
  },
  {
   "cell_type": "code",
   "execution_count": null,
   "metadata": {},
   "outputs": [],
   "source": [
    "from azureml.core.conda_dependencies import CondaDependencies\n",
    "from azureml.core import Environment\n",
    "\n",
    "pip = [\"azureml-defaults\", \"scikit-learn\", \"pandas\", \"joblib\"]\n",
    "conda_deps = CondaDependencies.create(conda_packages=None, pip_packages=pip)\n",
    "\n",
    "myenv = Environment(name='myenv')\n",
    "myenv.python.conda_dependencies = conda_deps"
   ]
  },
  {
   "cell_type": "code",
   "execution_count": null,
   "metadata": {},
   "outputs": [],
   "source": [
    "from azureml.core.model import InferenceConfig\n",
    "\n",
    "inf_config = InferenceConfig(entry_script='score.py', environment=myenv)"
   ]
  },
  {
   "cell_type": "markdown",
   "metadata": {},
   "source": [
    "### 6.0 Create Azure Kubernetes Service Configuration File\n",
    "Estimated time to complete: about 10 minutes\n",
    "\n",
    "Create an Azure Kubernetes Service deployment configuration file. Notice that we enable SSL since Azure Search only allows secure endpoints as custom skills. "
   ]
  },
  {
   "cell_type": "code",
   "execution_count": null,
   "metadata": {
    "scrolled": true
   },
   "outputs": [],
   "source": [
    "# create AKS compute target\n",
    "from azureml.core.compute import ComputeTarget, AksCompute\n",
    "\n",
    "config = AksCompute.provisioning_configuration(location= my_aks_location)\n",
    "config.enable_ssl(leaf_domain_label= my_leaf_domain_label, overwrite_existing_domain=True)\n",
    "\n",
    "aks = ComputeTarget.create(ws, my_aks_compute_target_name, config)\n",
    "aks.wait_for_completion(show_output=True)\n",
    "\n",
    "# if you already created a configuration file, you can just attach: \n",
    "#config = AksCompute.attach_configuration(resource_group= my_resource_group, cluster_name='enter cluser name here')\n",
    "#config.enable_ssl(leaf_domain_label= my_leaf_domain_label, overwrite_existing_domain=True)\n",
    "#aks = ComputeTarget.attach(ws, my_aks_compute_target_name, config)\n",
    "#aks.wait_for_completion(show_output=True)\n",
    "\n",
    "print(aks.ssl_configuration.cname, aks.ssl_configuration.status)"
   ]
  },
  {
   "cell_type": "markdown",
   "metadata": {},
   "source": [
    "### 7.0 Define the Deployment Configuration"
   ]
  },
  {
   "cell_type": "code",
   "execution_count": null,
   "metadata": {},
   "outputs": [],
   "source": [
    "from azureml.core.webservice import AksWebservice, Webservice\n",
    "\n",
    "# If deploying to a cluster configured for dev/test, ensure that it was created with enough\n",
    "# cores and memory to handle this deployment configuration. Note that memory is also used by\n",
    "# dependencies and AML components.\n",
    "\n",
    "aks_config = AksWebservice.deploy_configuration(autoscale_enabled=True, \n",
    "                                                autoscale_min_replicas=1, \n",
    "                                                autoscale_max_replicas=3, \n",
    "                                                autoscale_refresh_seconds=10, \n",
    "                                                autoscale_target_utilization=70,\n",
    "                                                auth_enabled=True, \n",
    "                                                cpu_cores=1, memory_gb=2, \n",
    "                                                scoring_timeout_ms=5000, \n",
    "                                                replica_max_concurrent_requests=2, \n",
    "                                                max_request_wait_time=5000)"
   ]
  },
  {
   "cell_type": "markdown",
   "metadata": {},
   "source": [
    "### 8.0 Deploy a web service\n",
    "Deploy a web service using the AKS image. Then get the web service HTTPS endpoint and the key to use to call the service"
   ]
  },
  {
   "cell_type": "code",
   "execution_count": null,
   "metadata": {
    "scrolled": true
   },
   "outputs": [],
   "source": [
    "from azureml.core.model import Model\n",
    "\n",
    "document_classifier = Model(ws, model_name)\n",
    "\n",
    "# deploy an AKS web service using the image\n",
    "#aks_config = AksWebservice.deploy_configuration()\n",
    "\n",
    "service = Model.deploy(workspace=ws,\n",
    "                       name=my_aks_service_name,\n",
    "                       models=[document_classifier],\n",
    "                       inference_config=inf_config,\n",
    "                       deployment_config=aks_config,\n",
    "                       deployment_target=aks,\n",
    "                       overwrite=True)\n",
    "\n",
    "\n",
    "service.wait_for_deployment(show_output = True)\n",
    "\n",
    "primary, secondary = service.get_keys()\n",
    "print('Scoring Uri: ' + service.scoring_uri)\n",
    "print('Primary key: ' + primary)"
   ]
  },
  {
   "cell_type": "markdown",
   "metadata": {},
   "source": [
    "### 9.0 Test Deployed Service"
   ]
  },
  {
   "cell_type": "markdown",
   "metadata": {},
   "source": [
    "#### 9.1 Import 20newsgroups Test Dataset"
   ]
  },
  {
   "cell_type": "code",
   "execution_count": null,
   "metadata": {},
   "outputs": [],
   "source": [
    "from sklearn.datasets import fetch_20newsgroups\n",
    "\n",
    "categories = ['comp.graphics', 'sci.space']\n",
    "newsgroups_test = fetch_20newsgroups(subset='test', categories=categories)\n",
    "\n",
    "X_test = newsgroups_test.data\n",
    "y_test = [categories[x] for x in newsgroups_test.target]"
   ]
  },
  {
   "cell_type": "markdown",
   "metadata": {},
   "source": [
    "#### 9.2 Format Data in Correct Structure for Cognitive Search\n",
    "For more information on custom skills see this [link](https://docs.microsoft.com/en-us/azure/search/cognitive-search-custom-skill-interface)."
   ]
  },
  {
   "cell_type": "code",
   "execution_count": null,
   "metadata": {},
   "outputs": [],
   "source": [
    "# send a random row from the test set to score\n",
    "random_index = np.random.randint(0, len(X_test)-1)\n",
    "\n",
    "input_data = {\"values\":[{\"recordId\": \"0\", \"data\": {\"content\": newsgroups_test.data[random_index]}}]}\n",
    "print(input_data)"
   ]
  },
  {
   "cell_type": "markdown",
   "metadata": {},
   "source": [
    "#### 9.3 Send HTTP Request and View Results"
   ]
  },
  {
   "cell_type": "code",
   "execution_count": null,
   "metadata": {},
   "outputs": [],
   "source": [
    "import requests\n",
    "import json\n",
    "\n",
    "input_json = json.dumps(input_data)\n",
    "\n",
    "headers = { 'Content-Type':'application/json'}\n",
    "headers['Authorization']= f'Bearer {primary}'\n",
    "\n",
    "# for AKS deployment you'd need the service key in the header as well\n",
    "# api_key = service.get_key()\n",
    "# headers = {'Content-Type':'application/json',  'Authorization':('Bearer '+ api_key)} \n",
    "\n",
    "resp = requests.post(service.scoring_uri, input_json, headers=headers)\n",
    "\n",
    "print(\"POST to url\", service.scoring_uri)\n",
    "print(\"label:\", y_test[random_index])\n",
    "print(\"prediction:\", resp.text)"
   ]
  },
  {
   "cell_type": "markdown",
   "metadata": {},
   "source": [
    "## 10.0 Integrate the custom skill"
   ]
  },
  {
   "cell_type": "code",
   "execution_count": null,
   "metadata": {
    "scrolled": true
   },
   "outputs": [],
   "source": [
    "print('Scoring Uri: ' + service.scoring_uri)\n",
    "print('Primary key: ' + primary)"
   ]
  },
  {
   "cell_type": "markdown",
   "metadata": {},
   "source": [
    "Nice work! You're now ready to add the custom skill to your skillset. \n",
    "\n",
    "Add the following skill to your skillset:\n",
    "\n",
    "```json\n",
    "{\n",
    "    \"@odata.type\": \"#Microsoft.Skills.Custom.WebApiSkill\",\n",
    "    \"description\": \"A document classification custom skill\",\n",
    "    \"uri\": \"<your-scoring-uri>\",\n",
    "    \"httpHeaders\": {\n",
    "        \"Authorization\": \"Bearer <your-primary-key>\"\n",
    "    },\n",
    "    \"batchSize\": 1,\n",
    "    \"context\": \"/document\",\n",
    "    \"inputs\": [\n",
    "      {\n",
    "        \"name\": \"content\",\n",
    "        \"source\": \"/document/content\"\n",
    "      }\n",
    "    ],\n",
    "    \"outputs\": [\n",
    "      {\n",
    "        \"name\": \"type\",\n",
    "        \"targetName\": \"type\"\n",
    "      }\n",
    "    ]\n",
    " }\n",
    "```\n",
    "\n",
    "Don't forget to also add an [output field mapping](https://docs.microsoft.com/azure/search/cognitive-search-output-field-mapping) to your indexer so that the data gets mapped into the search index correctly:\n",
    "\n",
    "```json\n",
    "{\n",
    "  \"sourceFieldName\": \"/document/type\",\n",
    "  \"targetFieldName\": \"type\"\n",
    "}\n",
    "```"
   ]
  },
  {
   "cell_type": "code",
   "execution_count": null,
   "metadata": {},
   "outputs": [],
   "source": []
  }
 ],
 "metadata": {
  "kernelspec": {
   "display_name": "Python 3",
   "language": "python",
   "name": "python3"
  },
  "language_info": {
   "codemirror_mode": {
    "name": "ipython",
    "version": 3
   },
   "file_extension": ".py",
   "mimetype": "text/x-python",
   "name": "python",
   "nbconvert_exporter": "python",
   "pygments_lexer": "ipython3",
   "version": "3.7.3"
  }
 },
 "nbformat": 4,
 "nbformat_minor": 2
}
